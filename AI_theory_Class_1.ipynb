{
  "nbformat": 4,
  "nbformat_minor": 0,
  "metadata": {
    "colab": {
      "name": "AI theory Class-1.ipynb",
      "provenance": [],
      "authorship_tag": "ABX9TyPhX1ViMX4ytOI0CpTN4wbV",
      "include_colab_link": true
    },
    "kernelspec": {
      "name": "python3",
      "display_name": "Python 3"
    }
  },
  "cells": [
    {
      "cell_type": "markdown",
      "metadata": {
        "id": "view-in-github",
        "colab_type": "text"
      },
      "source": [
        "<a href=\"https://colab.research.google.com/github/iamjahirulislam/AI-Lab/blob/main/AI_theory_Class_1.ipynb\" target=\"_parent\"><img src=\"https://colab.research.google.com/assets/colab-badge.svg\" alt=\"Open In Colab\"/></a>"
      ]
    },
    {
      "cell_type": "code",
      "metadata": {
        "id": "rsMqflLKi6dd"
      },
      "source": [
        ""
      ],
      "execution_count": null,
      "outputs": []
    },
    {
      "cell_type": "markdown",
      "metadata": {
        "id": "0ZNPEeALoS8q"
      },
      "source": [
        "#**Python Variable**"
      ]
    },
    {
      "cell_type": "code",
      "metadata": {
        "id": "Y-EotpJqou7h"
      },
      "source": [
        "n=50\r\n",
        "b=4.6"
      ],
      "execution_count": 2,
      "outputs": []
    },
    {
      "cell_type": "code",
      "metadata": {
        "colab": {
          "base_uri": "https://localhost:8080/"
        },
        "id": "AkhvDJy7o-Ch",
        "outputId": "b88e2fd4-0b90-4466-fd8a-d346e3cb64c7"
      },
      "source": [
        "type(n)"
      ],
      "execution_count": 3,
      "outputs": [
        {
          "output_type": "execute_result",
          "data": {
            "text/plain": [
              "int"
            ]
          },
          "metadata": {
            "tags": []
          },
          "execution_count": 3
        }
      ]
    },
    {
      "cell_type": "markdown",
      "metadata": {
        "id": "HoaH0DzipIji"
      },
      "source": [
        "#**Python collection types**"
      ]
    },
    {
      "cell_type": "code",
      "metadata": {
        "colab": {
          "base_uri": "https://localhost:8080/"
        },
        "id": "IM0hE8xnpSDE",
        "outputId": "f0576e67-f854-4489-85c1-80d8cf2c9050"
      },
      "source": [
        "#List\r\n",
        "myList = [1,5,67,8,\"sdfgd\"]\r\n",
        "print(myList)"
      ],
      "execution_count": 5,
      "outputs": [
        {
          "output_type": "stream",
          "text": [
            "[1, 5, 67, 8, 'sdfgd']\n"
          ],
          "name": "stdout"
        }
      ]
    },
    {
      "cell_type": "code",
      "metadata": {
        "colab": {
          "base_uri": "https://localhost:8080/"
        },
        "id": "OeFqxRr_pfpk",
        "outputId": "535a4a59-b6b9-4803-c1a1-d6421c3541d5"
      },
      "source": [
        "#Dictionary\r\n",
        "myDictionary = {\"Rahim\" : 200, \"Hasan\" : 500, \"Jahirul\" : \"800\"}\r\n",
        "print(myDictionary)\r\n"
      ],
      "execution_count": 9,
      "outputs": [
        {
          "output_type": "stream",
          "text": [
            "{'Rahim': 200, 'Hasan': 500, 'Jahirul': '800'}\n"
          ],
          "name": "stdout"
        }
      ]
    },
    {
      "cell_type": "code",
      "metadata": {
        "colab": {
          "base_uri": "https://localhost:8080/"
        },
        "id": "8HLe_ZAkqIKf",
        "outputId": "0e37f4f0-bb77-4ac4-8638-4b0b917fc85f"
      },
      "source": [
        "print(myDictionary[\"Jahirul\"])"
      ],
      "execution_count": 11,
      "outputs": [
        {
          "output_type": "stream",
          "text": [
            "800\n"
          ],
          "name": "stdout"
        }
      ]
    },
    {
      "cell_type": "code",
      "metadata": {
        "colab": {
          "base_uri": "https://localhost:8080/"
        },
        "id": "35h6v2qCqaak",
        "outputId": "eb31f5a9-e4e5-4f9b-830b-00aa1abea2d9"
      },
      "source": [
        "name =\"Jahirul\"\r\n",
        "tk = 1000\r\n",
        "print(\"My name is %s and I have %s tk\"%(name,tk))"
      ],
      "execution_count": 15,
      "outputs": [
        {
          "output_type": "stream",
          "text": [
            "My name is Jahirul and I have 1000 tk\n"
          ],
          "name": "stdout"
        }
      ]
    },
    {
      "cell_type": "markdown",
      "metadata": {
        "id": "iNGVI7wJq5zo"
      },
      "source": [
        "Conditional\r\n"
      ]
    },
    {
      "cell_type": "code",
      "metadata": {
        "colab": {
          "base_uri": "https://localhost:8080/"
        },
        "id": "rnSaEtwtq9K8",
        "outputId": "26515d2e-f8ab-407e-a967-b06a4c3310bf"
      },
      "source": [
        "x = 60\r\n",
        "if x == 10:\r\n",
        "  print(\"We got 10\")\r\n",
        "elif x>10 and x<50:\r\n",
        "  print(\"We got more than 10\")\r\n",
        "else:\r\n",
        "  print(\"We got less than 10\")\r\n"
      ],
      "execution_count": 17,
      "outputs": [
        {
          "output_type": "stream",
          "text": [
            "We got less than 10\n"
          ],
          "name": "stdout"
        }
      ]
    },
    {
      "cell_type": "markdown",
      "metadata": {
        "id": "-dAdv9XBr1VH"
      },
      "source": [
        "#**Loop**"
      ]
    },
    {
      "cell_type": "code",
      "metadata": {
        "colab": {
          "base_uri": "https://localhost:8080/"
        },
        "id": "an-69cbFr57u",
        "outputId": "48030473-49e5-46eb-b3db-f10d585e418d"
      },
      "source": [
        "for i in myList:\r\n",
        "  print(i)"
      ],
      "execution_count": 18,
      "outputs": [
        {
          "output_type": "stream",
          "text": [
            "1\n",
            "5\n",
            "67\n",
            "8\n",
            "sdfgd\n"
          ],
          "name": "stdout"
        }
      ]
    },
    {
      "cell_type": "markdown",
      "metadata": {
        "id": "rCEAoiNusM0U"
      },
      "source": [
        "While Loop"
      ]
    },
    {
      "cell_type": "code",
      "metadata": {
        "colab": {
          "base_uri": "https://localhost:8080/"
        },
        "id": "QjM5bSLesO1i",
        "outputId": "686ef7ce-6b95-4d23-a94e-f4020c005dc9"
      },
      "source": [
        "n=1\r\n",
        "while n<=10:\r\n",
        "  print(n)\r\n",
        "  n+= 1"
      ],
      "execution_count": 25,
      "outputs": [
        {
          "output_type": "stream",
          "text": [
            "1\n",
            "2\n",
            "3\n",
            "4\n",
            "5\n",
            "6\n",
            "7\n",
            "8\n",
            "9\n",
            "10\n"
          ],
          "name": "stdout"
        }
      ]
    },
    {
      "cell_type": "markdown",
      "metadata": {
        "id": "Hz_rQ_1js2tg"
      },
      "source": [
        "Function\r\n"
      ]
    },
    {
      "cell_type": "code",
      "metadata": {
        "id": "CiOG6lUCs2Hl"
      },
      "source": [
        "def method():\r\n",
        "  print(\"This is a method\")"
      ],
      "execution_count": 27,
      "outputs": []
    },
    {
      "cell_type": "code",
      "metadata": {
        "colab": {
          "base_uri": "https://localhost:8080/"
        },
        "id": "KNL3k-bDtJsS",
        "outputId": "7fa24404-ed35-41e6-b450-4f15db9f3d68"
      },
      "source": [
        "method()"
      ],
      "execution_count": 28,
      "outputs": [
        {
          "output_type": "stream",
          "text": [
            "This is a method\n"
          ],
          "name": "stdout"
        }
      ]
    },
    {
      "cell_type": "code",
      "metadata": {
        "colab": {
          "base_uri": "https://localhost:8080/"
        },
        "id": "9uxV72C-tmNs",
        "outputId": "775f4a93-3922-4895-f673-6016e17c08fa"
      },
      "source": [
        "#printing in another formate\r\n",
        "str=\"Bangladesh\"\r\n",
        "area= 147570\r\n",
        "print(\"I Live in\",str,\"its area is\",area)"
      ],
      "execution_count": 29,
      "outputs": [
        {
          "output_type": "stream",
          "text": [
            "I Live in Bangladesh its area is 147570\n"
          ],
          "name": "stdout"
        }
      ]
    },
    {
      "cell_type": "markdown",
      "metadata": {
        "id": "Y9PdWVbeuWk-"
      },
      "source": [
        "**List**"
      ]
    },
    {
      "cell_type": "code",
      "metadata": {
        "colab": {
          "base_uri": "https://localhost:8080/"
        },
        "id": "F0ypW2IbuVvo",
        "outputId": "68b68adb-a805-4e23-be25-f29e3f8eb134"
      },
      "source": [
        "myList=[1,34,56,7,8,9]\r\n",
        "myList.pop()\r\n",
        "print(myList)\r\n",
        "myList.remove(8)\r\n",
        "print(myList)"
      ],
      "execution_count": 32,
      "outputs": [
        {
          "output_type": "stream",
          "text": [
            "[1, 34, 56, 7, 8]\n",
            "[1, 34, 56, 7]\n"
          ],
          "name": "stdout"
        }
      ]
    },
    {
      "cell_type": "code",
      "metadata": {
        "id": "_FAafC3Xu0fp"
      },
      "source": [
        "def print_Square_Value(numbers):\r\n",
        "  for i in numbers:"
      ],
      "execution_count": null,
      "outputs": []
    }
  ]
}